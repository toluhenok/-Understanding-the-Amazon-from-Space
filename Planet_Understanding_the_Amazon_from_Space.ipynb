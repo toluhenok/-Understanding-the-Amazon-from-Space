{
  "nbformat": 4,
  "nbformat_minor": 0,
  "metadata": {
    "colab": {
      "private_outputs": true,
      "provenance": []
    },
    "kernelspec": {
      "name": "python3",
      "display_name": "Python 3"
    },
    "language_info": {
      "name": "python"
    }
  },
  "cells": [
    {
      "cell_type": "code",
      "execution_count": null,
      "metadata": {
        "id": "FyokUPsy78-a"
      },
      "outputs": [],
      "source": [
        "from google.colab import drive\n",
        "drive.mount('/content/drive')"
      ]
    },
    {
      "cell_type": "code",
      "source": [
        "import sys\n",
        "import os\n",
        "import subprocess\n",
        "\n",
        "from six import string_types\n",
        "\n",
        "import numpy as np\n",
        "import pandas as pd\n",
        "from tqdm import tqdm\n",
        "import seaborn as sns\n",
        "import matplotlib.pyplot as plt\n",
        "import matplotlib.image as mpimg\n",
        "import scipy\n",
        "from skimage import io\n",
        "from scipy import ndimage\n",
        "from IPython.display import display\n",
        "%matplotlib inline\n",
        "\n",
        "import tensorflow as tf\n",
        "from tensorflow import keras\n"
      ],
      "metadata": {
        "id": "FucOr-N1Oax7"
      },
      "execution_count": null,
      "outputs": []
    },
    {
      "cell_type": "code",
      "source": [
        "file1 = '/content/drive/MyDrive/Colab Notebooks/Understanding the Amazon from space - Kaggle/train_v2.csv/train_v2.csv'\n",
        "train = pd.read_csv(file1)"
      ],
      "metadata": {
        "id": "kAkU91yHRPDk"
      },
      "execution_count": null,
      "outputs": []
    },
    {
      "cell_type": "code",
      "source": [
        "train.head()"
      ],
      "metadata": {
        "id": "Jq73hXUUTHlq"
      },
      "execution_count": null,
      "outputs": []
    },
    {
      "cell_type": "code",
      "source": [
        "train.shape"
      ],
      "metadata": {
        "id": "qHYgxT7UUSEF"
      },
      "execution_count": null,
      "outputs": []
    },
    {
      "cell_type": "code",
      "source": [
        "file2 = '/content/drive/MyDrive/Colab Notebooks/Understanding the Amazon from space - Kaggle/test_v2_file_mapping.csv/test_v2_file_mapping.csv'\n",
        "test = pd.read_csv(file2)"
      ],
      "metadata": {
        "id": "mh8SxJwhTK8r"
      },
      "execution_count": null,
      "outputs": []
    },
    {
      "cell_type": "code",
      "source": [
        "test.head()"
      ],
      "metadata": {
        "id": "wopI07eGTlQJ"
      },
      "execution_count": null,
      "outputs": []
    },
    {
      "cell_type": "code",
      "source": [
        "test.shape"
      ],
      "metadata": {
        "id": "J1UNz-oVTtR7"
      },
      "execution_count": null,
      "outputs": []
    },
    {
      "cell_type": "code",
      "source": [
        "# creating the weather labels\n",
        "weather_categories = ['partly_cloudy', 'haze', 'cloudy', 'clear']\n",
        "weather_tag_list = [[weather for weather in tag.split() if weather in weather_categories] for tag in train['tags']]\n",
        "train['weather_tags'] = [''.join(tag) for tag in weather_tag_list]\n",
        "train.head()"
      ],
      "metadata": {
        "id": "5q5yNIx1o_rn"
      },
      "execution_count": null,
      "outputs": []
    },
    {
      "cell_type": "code",
      "source": [
        "# Build list with unique labels\n",
        "label_list = []\n",
        "for tag_str in train.tags.values:\n",
        "    labels = tag_str.split(' ')\n",
        "    for label in labels:\n",
        "        if label not in label_list:\n",
        "            label_list.append(label)\n",
        "\n",
        "            \n",
        "# Display label list and length \n",
        "print(f'There are {len(train)} data samples, with {len(label_list)} possible classes.', '\\n')\n",
        "print(f'The label list includes: ')\n",
        "labels_dict = dict(zip(range(0,17), label_list))\n",
        "labels_dict"
      ],
      "metadata": {
        "id": "8lrCOgYjPkD2"
      },
      "execution_count": null,
      "outputs": []
    },
    {
      "cell_type": "code",
      "source": [
        "# One-hot encode the features\n",
        "train_tag = train.copy()\n",
        "for label in label_list:\n",
        "    train_tag[label] = train_tag['tags'].apply(lambda x: 1 if label in x.split() else 0)\n",
        "    \n",
        "train_tag.head()"
      ],
      "metadata": {
        "id": "62eqe_Z-ew1V"
      },
      "execution_count": null,
      "outputs": []
    },
    {
      "cell_type": "code",
      "source": [
        "#print all unique tags\n",
        "from itertools import chain\n",
        "label_list = list(chain.from_iterable([tags.split(\" \") for tags in train_tag['tags'].values]))\n",
        "label_set = set(label_list)\n",
        "print(f\"There are {len(label_set)} unique labels\", '\\n')\n",
        "print(f'These unique label sets are: ')\n",
        "labels_set = dict(zip(range(0,17), label_set))\n",
        "labels_set\n",
        "\n"
      ],
      "metadata": {
        "id": "MTpHO06FiljK"
      },
      "execution_count": null,
      "outputs": []
    },
    {
      "cell_type": "code",
      "source": [
        "#Histogram of label instances\n",
        "tag_labels = pd.Series(label_list).value_counts()\n",
        "fig, ax = plt.subplots(figsize=(16, 8))\n",
        "sns.barplot(x=tag_labels, y=tag_labels.index, orient='h')"
      ],
      "metadata": {
        "id": "3Ci1yl4p3mYS"
      },
      "execution_count": null,
      "outputs": []
    },
    {
      "cell_type": "code",
      "source": [
        "#function for cooocurence matrix plotting\n",
        "def make_cooccurence_matrix(labels):\n",
        "  num_data = train_tag[labels];\n",
        "  c_matrix = num_data.T.dot(num_data)\n",
        "  sns.heatmap(c_matrix)\n",
        "  return c_matrix\n",
        "\n",
        "#compute the cooccurence\n",
        "make_cooccurence_matrix(label_set)"
      ],
      "metadata": {
        "id": "Sn9N8Zia9mqw"
      },
      "execution_count": null,
      "outputs": []
    },
    {
      "cell_type": "code",
      "source": [
        "# plot weather element cooccurence matrix\n",
        "weather_labels = ['clear', 'partly_cloudy', 'haze', 'cloudy']\n",
        "make_cooccurence_matrix(weather_labels)"
      ],
      "metadata": {
        "id": "lenaRMxlGOMG"
      },
      "execution_count": null,
      "outputs": []
    },
    {
      "cell_type": "code",
      "source": [
        "# plot land-use element classes cooccurence matrix\n",
        "land_labels = ['primary', 'agriculture', 'water', 'cultivation', 'habitation']\n",
        "make_cooccurence_matrix(land_labels)"
      ],
      "metadata": {
        "id": "ddV3qhSEGkWs"
      },
      "execution_count": null,
      "outputs": []
    },
    {
      "cell_type": "code",
      "source": [
        "# for the analysis we need columns after tag and image_name\n",
        "train_tag_columns = list(train_tag.columns[2:])\n",
        "print(train_tag_columns,end='')"
      ],
      "metadata": {
        "id": "E9rr9RKFOies"
      },
      "execution_count": null,
      "outputs": []
    },
    {
      "cell_type": "code",
      "source": [
        "#onehotencode the image name\n",
        "train_tag['image_name'] = train_tag['image_name'].apply(lambda x:\n",
        "                                                        f'{x}.jpg')\n",
        "train_tag.head()"
      ],
      "metadata": {
        "id": "BEsD66qpPVNN"
      },
      "execution_count": null,
      "outputs": []
    },
    {
      "cell_type": "code",
      "source": [
        "image_train_path = '/content/drive/MyDrive/Colab Notebooks/Understanding the Amazon from space - Kaggle/planet/train-jpg'"
      ],
      "metadata": {
        "id": "BSUD1CF1S4cN"
      },
      "execution_count": null,
      "outputs": []
    },
    {
      "cell_type": "code",
      "source": [
        "image_train_path"
      ],
      "metadata": {
        "id": "ctJ5QbDwTC3s"
      },
      "execution_count": null,
      "outputs": []
    },
    {
      "cell_type": "code",
      "source": [
        "dir = tf.data.Dataset.list_files(image_train_path + '/*')"
      ],
      "metadata": {
        "id": "PfF_U0N7Tju1"
      },
      "execution_count": null,
      "outputs": []
    },
    {
      "cell_type": "code",
      "source": [
        "image_train_path = '/content/drive/MyDrive/Colab Notebooks/Understanding the Amazon from space - Kaggle/planet/train-jpg'"
      ],
      "metadata": {
        "id": "CHax2BXMWU--"
      },
      "execution_count": null,
      "outputs": []
    },
    {
      "cell_type": "code",
      "source": [
        "for filename in os.listdir(image_train_path):\n",
        "  if filename.endswith(\".jpg\") or filename.endswith(\".png\"):\n",
        "    img = plt.imread(os.path.join(image_train_path, filename))\n",
        "    plt.imshow(img)\n",
        "    plt.show()"
      ],
      "metadata": {
        "id": "BnhX5qoFYCWX"
      },
      "execution_count": null,
      "outputs": []
    },
    {
      "cell_type": "markdown",
      "source": [
        "Data pre-processing"
      ],
      "metadata": {
        "id": "ttQEYxUACfb9"
      }
    },
    {
      "cell_type": "code",
      "source": [
        "#Determine if length of the train and test dataset csv file equals the actual number of images in the folder\n",
        "import pathlib\n",
        "#train path\n",
        "train_image_dir = pathlib.Path(image_train_path)\n",
        "train_img_path = sorted(list(train_image_dir.glob('*.jpg')))\n",
        "\n",
        "#test path\n",
        "test_img_dir = pathlib.Path('/content/drive/MyDrive/Colab Notebooks/Understanding the Amazon from space - Kaggle/planet/test-jpg')\n",
        "test_img_path = sorted(list(test_img_dir.glob('*.jpg')))\n",
        "\n",
        "#additional test path\n",
        "test_add_img_dir = pathlib.Path('test-jpg-additional')\n",
        "test_add_img_path = sorted(list(test_add_img_dir.glob('*/*.jpg')))"
      ],
      "metadata": {
        "id": "p-IxGlqQCtJy"
      },
      "execution_count": null,
      "outputs": []
    },
    {
      "cell_type": "markdown",
      "source": [
        "Image preprocessing"
      ],
      "metadata": {
        "id": "cUuShP5XRcLv"
      }
    },
    {
      "cell_type": "code",
      "source": [
        "#define input size\n",
        "input_size = 64"
      ],
      "metadata": {
        "id": "RujTBI4yRfaM"
      },
      "execution_count": null,
      "outputs": []
    },
    {
      "cell_type": "code",
      "source": [
        "#create x_train and y_train\n",
        "x_train = []\n",
        "y_train = []\n",
        "\n",
        "for f, tags in tqdm(train_tag.values, miniters=1000):\n",
        "  img = cv2.imread('/content/drive/MyDrive/Colab Notebooks/Understanding the Amazon from space - Kaggle/planet/train-jpg/{}.jpg' .format(f))"
      ],
      "metadata": {
        "id": "6fmLtllBRmyC"
      },
      "execution_count": null,
      "outputs": []
    },
    {
      "cell_type": "code",
      "source": [],
      "metadata": {
        "id": "3su5_soTS1EG"
      },
      "execution_count": null,
      "outputs": []
    }
  ]
}